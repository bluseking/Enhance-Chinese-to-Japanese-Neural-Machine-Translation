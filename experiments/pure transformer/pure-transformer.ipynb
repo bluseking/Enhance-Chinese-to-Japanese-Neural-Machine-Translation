{
 "cells": [
  {
   "cell_type": "code",
   "execution_count": 2,
   "metadata": {},
   "outputs": [],
   "source": [
    "import os\n",
    "import time\n",
    "import numpy as np\n",
    "import matplotlib as mpl\n",
    "import matplotlib.pyplot as plt\n",
    "from pprint import pprint\n",
    "from IPython.display import clear_output"
   ]
  },
  {
   "cell_type": "code",
   "execution_count": 3,
   "metadata": {
    "scrolled": true
   },
   "outputs": [
    {
     "name": "stdout",
     "output_type": "stream",
     "text": [
      "2.2.0\n"
     ]
    }
   ],
   "source": [
    "import tensorflow as tf\n",
    "import tensorflow_datasets as tfds\n",
    "print(tf.__version__)"
   ]
  },
  {
   "cell_type": "code",
   "execution_count": 4,
   "metadata": {},
   "outputs": [],
   "source": [
    "output_dir = \"nmt_pure_transformer\"\n",
    "en_vocab_file = os.path.join(output_dir, \"en_vocab\")\n",
    "zh_vocab_file = os.path.join(output_dir, \"zh_vocab\")\n",
    "checkpoint_path = os.path.join(output_dir, \"checkpoints\")\n",
    "log_dir = os.path.join(output_dir, 'logs')\n",
    "download_dir = \"tensorflow-datasets/downloads\"\n",
    "\n",
    "if not os.path.exists(output_dir):\n",
    "    os.makedirs(output_dir)"
   ]
  },
  {
   "cell_type": "markdown",
   "metadata": {},
   "source": [
    "## Outline\n",
    "\n",
    "### Data\n",
    "\n",
    "1. Prepare the datasets (tf.data.Dataset)\n",
    "2. Build the dictionary from en, zh datasets (by SubwordTextEncoder)\n",
    "    1. 中文需定義 `max_subword_length=1`\n",
    "3. Preprocessing\n",
    "    1. 定義一個 `encode` function 負責加入 BOS, EOS 的 index 到 subword encoding 當中\n",
    "    2. 去掉長度為 40 的 data\n",
    "    3. 利用 `padded_batch` 將 data 全部都 padding 成一樣長度\n",
    "\n",
    "### Transformer\n",
    "\n",
    "1. Padding mask\n",
    "2. Look Ahead mask\n",
    "3. Feed-forward network\n",
    "4. Multi-Head Attention network\n",
    "5. Encoder layer\n",
    "    1. Sublayer\n",
    "        1. MHA (padding mask)\n",
    "        2. FFN\n",
    "    2. Dropout\n",
    "    3. Residual connection\n",
    "    4. LayerNorm\n",
    "6. Decoder layer\n",
    "    1. Sublayer\n",
    "        1. Masked MHA (padding + look ahead mask)\n",
    "        2. Encoder-Decoder MHA (padding mask)\n",
    "            1. Masked MHA = Q\n",
    "            2. Encoder = K, V\n",
    "        3. FFN\n",
    "    2. Dropout\n",
    "    3. Residual connection\n",
    "    4. LayerNorm\n",
    "7. Positional Encoding\n",
    "8. Encoder\n",
    "    1. Embedding\n",
    "    2. Positional Encoding\n",
    "    3. Regularization\n",
    "    4. Encoder layer\n",
    "9. Decoder\n",
    "    1. Embedding\n",
    "    2. Positional Encoding\n",
    "    3. Regularization\n",
    "    4. Decoder layer\n",
    "10. Final linear layer\n",
    "\n",
    "### Training\n",
    "\n",
    "1. inp\n",
    "2. tar_inp = tar[:, :-1]\n",
    "3. tar_real = tar[:, 1:]\n",
    "4. inp + tar_int = pred\n",
    "5. cross_entropy_loss(pred, tar_real)\n"
   ]
  },
  {
   "cell_type": "code",
   "execution_count": null,
   "metadata": {},
   "outputs": [],
   "source": []
  }
 ],
 "metadata": {
  "kernelspec": {
   "display_name": "Python 3",
   "language": "python",
   "name": "python3"
  },
  "language_info": {
   "codemirror_mode": {
    "name": "ipython",
    "version": 3
   },
   "file_extension": ".py",
   "mimetype": "text/x-python",
   "name": "python",
   "nbconvert_exporter": "python",
   "pygments_lexer": "ipython3",
   "version": "3.7.7"
  },
  "toc": {
   "base_numbering": 1,
   "nav_menu": {},
   "number_sections": true,
   "sideBar": true,
   "skip_h1_title": false,
   "title_cell": "Table of Contents",
   "title_sidebar": "Contents",
   "toc_cell": false,
   "toc_position": {},
   "toc_section_display": true,
   "toc_window_display": true
  },
  "varInspector": {
   "cols": {
    "lenName": 16,
    "lenType": 16,
    "lenVar": 40
   },
   "kernels_config": {
    "python": {
     "delete_cmd_postfix": "",
     "delete_cmd_prefix": "del ",
     "library": "var_list.py",
     "varRefreshCmd": "print(var_dic_list())"
    },
    "r": {
     "delete_cmd_postfix": ") ",
     "delete_cmd_prefix": "rm(",
     "library": "var_list.r",
     "varRefreshCmd": "cat(var_dic_list()) "
    }
   },
   "types_to_exclude": [
    "module",
    "function",
    "builtin_function_or_method",
    "instance",
    "_Feature"
   ],
   "window_display": false
  }
 },
 "nbformat": 4,
 "nbformat_minor": 4
}
